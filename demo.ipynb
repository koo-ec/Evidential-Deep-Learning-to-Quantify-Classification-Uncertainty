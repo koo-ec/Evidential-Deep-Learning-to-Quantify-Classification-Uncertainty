{
  "nbformat": 4,
  "nbformat_minor": 0,
  "metadata": {
    "colab": {
      "name": "whatify.ipynb",
      "provenance": [],
      "collapsed_sections": []
    },
    "kernelspec": {
      "name": "python3",
      "display_name": "Python 3"
    },
    "language_info": {
      "name": "python"
    },
    "accelerator": "GPU"
  },
  "cells": [
    {
      "cell_type": "code",
      "metadata": {
        "id": "dQ8NalA1WHXZ"
      },
      "source": [
        "import numpy as np\n",
        "from tensorflow import keras\n",
        "from tensorflow.keras import layers\n",
        "import keras\n",
        "from scipy import ndimage\n",
        "import matplotlib.pyplot as plt\n",
        "import cv2\n",
        "import tensorflow as tf\n",
        "from keras import backend as K\n"
      ],
      "execution_count": 1,
      "outputs": []
    },
    {
      "cell_type": "code",
      "metadata": {
        "id": "YtI1wWthWdhY"
      },
      "source": [
        "# Model / data parameters\n",
        "num_classes = 10\n",
        "input_shape = (28, 28, 1)\n",
        "\n",
        "# the data, split between train and test sets\n",
        "(x_train, y_train), (x_test, y_test) = keras.datasets.mnist.load_data()\n",
        "\n",
        "# Scale images to the [0, 1] range\n",
        "x_train = x_train.astype(\"float32\") / 255\n",
        "x_test = x_test.astype(\"float32\") / 255\n",
        "# Make sure images have shape (28, 28, 1)\n",
        "x_train = np.expand_dims(x_train, -1)\n",
        "x_test = np.expand_dims(x_test, -1)\n",
        "\n",
        "# convert class vectors to binary class matrices\n",
        "y_train = keras.utils.to_categorical(y_train, num_classes)\n",
        "y_test = keras.utils.to_categorical(y_test, num_classes)"
      ],
      "execution_count": 2,
      "outputs": []
    },
    {
      "cell_type": "markdown",
      "metadata": {
        "id": "y6KtSnwlDwVL"
      },
      "source": [
        "Simple LeNet like in the paper without activation"
      ]
    },
    {
      "cell_type": "code",
      "metadata": {
        "colab": {
          "base_uri": "https://localhost:8080/"
        },
        "id": "yZVX-19HWfZ8",
        "outputId": "b460f742-7b2b-4e02-deeb-0ea6d16d329b"
      },
      "source": [
        "inp = keras.Input(shape=input_shape)\n",
        "\n",
        "x = layers.Conv2D(filters=5, kernel_size=(5,5), activation='relu')(inp)\n",
        "x = layers.Conv2D(filters=5, kernel_size=(3, 3), activation='relu')(x)\n",
        "x = layers.Flatten()(x)\n",
        "x = layers.Dense(units=512, activation='relu')(x)\n",
        "x = layers.Dense(units=128, activation='relu')(x)\n",
        "x = layers.Dense(units=10)(x)\n",
        "\n",
        "\n",
        "model = keras.Model(inp, x)\n",
        "\n",
        "model.summary()"
      ],
      "execution_count": 9,
      "outputs": [
        {
          "output_type": "stream",
          "text": [
            "Model: \"model_1\"\n",
            "_________________________________________________________________\n",
            "Layer (type)                 Output Shape              Param #   \n",
            "=================================================================\n",
            "input_2 (InputLayer)         [(None, 28, 28, 1)]       0         \n",
            "_________________________________________________________________\n",
            "conv2d_2 (Conv2D)            (None, 24, 24, 5)         130       \n",
            "_________________________________________________________________\n",
            "conv2d_3 (Conv2D)            (None, 22, 22, 5)         230       \n",
            "_________________________________________________________________\n",
            "flatten_1 (Flatten)          (None, 2420)              0         \n",
            "_________________________________________________________________\n",
            "dense_2 (Dense)              (None, 512)               1239552   \n",
            "_________________________________________________________________\n",
            "dense_3 (Dense)              (None, 128)               65664     \n",
            "_________________________________________________________________\n",
            "dense_4 (Dense)              (None, 10)                1290      \n",
            "=================================================================\n",
            "Total params: 1,306,866\n",
            "Trainable params: 1,306,866\n",
            "Non-trainable params: 0\n",
            "_________________________________________________________________\n"
          ],
          "name": "stdout"
        }
      ]
    },
    {
      "cell_type": "markdown",
      "metadata": {
        "id": "H4PtqI_tD2RS"
      },
      "source": [
        "Defining KL and loss function from equation 5"
      ]
    },
    {
      "cell_type": "code",
      "metadata": {
        "id": "tsQ5-wQ8HVHL"
      },
      "source": [
        "lgamma = tf.math.lgamma\n",
        "digamma = tf.math.digamma\n",
        "\n",
        "epochs = [1]\n",
        "\n",
        "def KL(alpha, num_classes=10):\n",
        "  one = K.constant(np.ones((1,num_classes)),dtype=tf.float32)\n",
        "  S = K.sum(alpha,axis=1,keepdims=True)  \n",
        "\n",
        "  kl = lgamma(S) - K.sum(lgamma(alpha),axis=1,keepdims=True) +\\\n",
        "      K.sum(lgamma(one),axis=1,keepdims=True) - lgamma(K.sum(one,axis=1,keepdims=True)) +\\\n",
        "      K.sum((alpha - one)*(digamma(alpha)-digamma(S)),axis=1,keepdims=True)\n",
        "          \n",
        "  return kl\n",
        "\n",
        "\n",
        "def loss_func(y_true, output):\n",
        "    y_evidence = K.relu(output)\n",
        "    alpha = y_evidence+1\n",
        "    S = K.sum(alpha,axis=1,keepdims=True)\n",
        "    p = alpha / S  \n",
        "\n",
        "    err = K.sum(K.pow((y_true-p),2),axis=1,keepdims=True)\n",
        "    var = K.sum(alpha*(S-alpha)/(S*S*(S+1)),axis=1,keepdims=True)\n",
        "    \n",
        "    l =  K.sum(err + var,axis=1,keepdims=True)\n",
        "    l = K.sum(l)\n",
        "    \n",
        "    \n",
        "    kl =  K.minimum(1.0, epochs[0]/50) * K.sum(KL((1-y_true)*(alpha)+y_true))\n",
        "    return l + kl\n",
        "\n",
        "\n"
      ],
      "execution_count": 10,
      "outputs": []
    },
    {
      "cell_type": "code",
      "metadata": {
        "colab": {
          "base_uri": "https://localhost:8080/"
        },
        "id": "3om3RX78Wle2",
        "outputId": "b0a581c8-92ef-413b-affc-88698f69dfde"
      },
      "source": [
        "batch_size = 1024\n",
        "model.compile(loss=loss_func, optimizer=\"adam\", metrics=['accuracy'])\n",
        "for i in range(30):\n",
        "  print(i+1)\n",
        "  model.fit(x_train, y_train, batch_size=batch_size, epochs=1, validation_split=0.1)\n",
        "  epochs[0]+=1\n"
      ],
      "execution_count": 11,
      "outputs": [
        {
          "output_type": "stream",
          "text": [
            "1\n",
            "53/53 [==============================] - 2s 17ms/step - loss: 656.5315 - accuracy: 0.6787 - val_loss: 169.4785 - val_accuracy: 0.9380\n",
            "2\n",
            "53/53 [==============================] - 1s 14ms/step - loss: 171.1368 - accuracy: 0.9276 - val_loss: 112.2213 - val_accuracy: 0.9580\n",
            "3\n",
            "53/53 [==============================] - 1s 12ms/step - loss: 125.0644 - accuracy: 0.9477 - val_loss: 85.9031 - val_accuracy: 0.9683\n",
            "4\n",
            "53/53 [==============================] - 1s 11ms/step - loss: 97.9829 - accuracy: 0.9597 - val_loss: 73.8297 - val_accuracy: 0.9735\n",
            "5\n",
            "53/53 [==============================] - 1s 11ms/step - loss: 82.5725 - accuracy: 0.9657 - val_loss: 62.3483 - val_accuracy: 0.9745\n",
            "6\n",
            "53/53 [==============================] - 1s 12ms/step - loss: 71.1813 - accuracy: 0.9700 - val_loss: 55.0914 - val_accuracy: 0.9787\n",
            "7\n",
            "53/53 [==============================] - 1s 11ms/step - loss: 61.0695 - accuracy: 0.9757 - val_loss: 50.9739 - val_accuracy: 0.9790\n",
            "8\n",
            "53/53 [==============================] - 1s 12ms/step - loss: 56.9333 - accuracy: 0.9774 - val_loss: 45.3122 - val_accuracy: 0.9813\n",
            "9\n",
            "53/53 [==============================] - 1s 11ms/step - loss: 51.2665 - accuracy: 0.9794 - val_loss: 47.7813 - val_accuracy: 0.9805\n",
            "10\n",
            "53/53 [==============================] - 1s 11ms/step - loss: 47.9053 - accuracy: 0.9808 - val_loss: 44.0173 - val_accuracy: 0.9812\n",
            "11\n",
            "53/53 [==============================] - 1s 12ms/step - loss: 44.4130 - accuracy: 0.9822 - val_loss: 42.6494 - val_accuracy: 0.9827\n",
            "12\n",
            "53/53 [==============================] - 1s 11ms/step - loss: 41.2133 - accuracy: 0.9836 - val_loss: 38.6728 - val_accuracy: 0.9832\n",
            "13\n",
            "53/53 [==============================] - 1s 12ms/step - loss: 37.9994 - accuracy: 0.9847 - val_loss: 37.5989 - val_accuracy: 0.9860\n",
            "14\n",
            "53/53 [==============================] - 1s 12ms/step - loss: 36.8686 - accuracy: 0.9857 - val_loss: 37.3336 - val_accuracy: 0.9850\n",
            "15\n",
            "53/53 [==============================] - 1s 12ms/step - loss: 35.4754 - accuracy: 0.9859 - val_loss: 40.6522 - val_accuracy: 0.9828\n",
            "16\n",
            "53/53 [==============================] - 1s 11ms/step - loss: 31.8235 - accuracy: 0.9876 - val_loss: 35.6857 - val_accuracy: 0.9862\n",
            "17\n",
            "53/53 [==============================] - 1s 11ms/step - loss: 30.3385 - accuracy: 0.9878 - val_loss: 35.1748 - val_accuracy: 0.9865\n",
            "18\n",
            "53/53 [==============================] - 1s 11ms/step - loss: 28.5266 - accuracy: 0.9886 - val_loss: 35.7555 - val_accuracy: 0.9845\n",
            "19\n",
            "53/53 [==============================] - 1s 12ms/step - loss: 27.4840 - accuracy: 0.9889 - val_loss: 33.4344 - val_accuracy: 0.9868\n",
            "20\n",
            "53/53 [==============================] - 1s 11ms/step - loss: 26.0676 - accuracy: 0.9900 - val_loss: 32.8883 - val_accuracy: 0.9873\n",
            "21\n",
            "53/53 [==============================] - 1s 12ms/step - loss: 25.9432 - accuracy: 0.9899 - val_loss: 36.6045 - val_accuracy: 0.9835\n",
            "22\n",
            "53/53 [==============================] - 1s 11ms/step - loss: 25.0494 - accuracy: 0.9901 - val_loss: 33.0782 - val_accuracy: 0.9855\n",
            "23\n",
            "53/53 [==============================] - 1s 12ms/step - loss: 23.3381 - accuracy: 0.9909 - val_loss: 33.1029 - val_accuracy: 0.9855\n",
            "24\n",
            "53/53 [==============================] - 1s 11ms/step - loss: 22.3721 - accuracy: 0.9912 - val_loss: 33.4948 - val_accuracy: 0.9857\n",
            "25\n",
            "53/53 [==============================] - 1s 12ms/step - loss: 22.8011 - accuracy: 0.9911 - val_loss: 28.5042 - val_accuracy: 0.9882\n",
            "26\n",
            "53/53 [==============================] - 1s 11ms/step - loss: 20.1774 - accuracy: 0.9921 - val_loss: 27.1093 - val_accuracy: 0.9882\n",
            "27\n",
            "53/53 [==============================] - 1s 12ms/step - loss: 18.7200 - accuracy: 0.9928 - val_loss: 28.8028 - val_accuracy: 0.9872\n",
            "28\n",
            "53/53 [==============================] - 1s 12ms/step - loss: 18.4072 - accuracy: 0.9926 - val_loss: 28.1936 - val_accuracy: 0.9870\n",
            "29\n",
            "53/53 [==============================] - 1s 12ms/step - loss: 17.9411 - accuracy: 0.9932 - val_loss: 27.5000 - val_accuracy: 0.9887\n",
            "30\n",
            "53/53 [==============================] - 1s 12ms/step - loss: 16.6157 - accuracy: 0.9936 - val_loss: 31.9962 - val_accuracy: 0.9842\n"
          ],
          "name": "stdout"
        }
      ]
    },
    {
      "cell_type": "code",
      "metadata": {
        "colab": {
          "base_uri": "https://localhost:8080/"
        },
        "id": "LImsBGcLWq-4",
        "outputId": "611c6056-9be0-4ea0-f5e0-487357265a16"
      },
      "source": [
        "score = model.evaluate(x_test, y_test, verbose=0)\n",
        "print(\"Test loss:\", score[0])\n",
        "print(\"Test accuracy:\", score[1])"
      ],
      "execution_count": 12,
      "outputs": [
        {
          "output_type": "stream",
          "text": [
            "Test loss: 1.0993051528930664\n",
            "Test accuracy: 0.9846000075340271\n"
          ],
          "name": "stdout"
        }
      ]
    },
    {
      "cell_type": "markdown",
      "metadata": {
        "id": "oEEvT524D8sK"
      },
      "source": [
        "calculating probability and uncertinty"
      ]
    },
    {
      "cell_type": "code",
      "metadata": {
        "id": "IfOMUPhQYGWC"
      },
      "source": [
        "def rotate(im,deg):\n",
        "  #rotation angle in degree\n",
        "  return ndimage.rotate(im, deg)\n",
        "\n",
        "def calc_prob_uncertinty(p):\n",
        "  \n",
        "  evidence = np.maximum(p[0], 0)\n",
        "\n",
        "  alpha = evidence +1\n",
        "\n",
        "  u = 10/ alpha.sum()\n",
        "  prob = alpha[np.argmax(alpha)] / alpha.sum()\n",
        "  return prob, u\n",
        "\n"
      ],
      "execution_count": 13,
      "outputs": []
    },
    {
      "cell_type": "code",
      "metadata": {
        "colab": {
          "base_uri": "https://localhost:8080/",
          "height": 634
        },
        "id": "6IgG4PNWYNO1",
        "outputId": "8a8ff300-7beb-4cb6-847c-a3f35b2eb19b"
      },
      "source": [
        "digit = 1\n",
        "angles_range = list(range(0,180,10))\n",
        "\n",
        "test_labels = np.argmax(y_test,axis=1)\n",
        "\n",
        "predictions = []\n",
        "uncertinties = []\n",
        "probabilities= []\n",
        "imgs = []\n",
        "for angle in angles_range:    \n",
        "\n",
        "  im = x_test[np.where(test_labels==digit)[0][0]]    \n",
        "  shape = im.shape\n",
        "  im = rotate(im, angle)    \n",
        "  im = cv2.resize(im,shape[:-1],interpolation = cv2.INTER_AREA)\n",
        "  imgs.append(im)\n",
        "  p = model.predict(np.array([im.reshape(shape)]))  \n",
        "  prob, uncertinty = calc_prob_uncertinty(p)\n",
        "  uncertinties.append(uncertinty)\n",
        "  probabilities.append(prob)  \n",
        "  predictions.append(np.argmax(p))\n",
        "\n",
        "plt.plot(angles_range,probabilities, label=f'digit={d}',marker='o')\n",
        "plt.plot(angles_range,uncertinties, label=f'uncertinty={d}',marker='o')\n",
        "\n",
        "plt.xlabel('angle')\n",
        "plt.ylabel('probability')\n",
        "plt.legend()\n",
        "plt.title('probability on rotation')\n",
        "plt.grid()\n",
        "plt.show()\n",
        "f,axs = plt.subplots(1,len(imgs),figsize=(10,20))\n",
        "for ax,im in zip(axs.ravel(),imgs):\n",
        "  ax.imshow(im,cmap='gray')\n",
        "plt.show()\n",
        "\n",
        "plt.plot(angles_range,predictions, label=f'digit={d}',marker='o')\n",
        "plt.xlabel('angle')\n",
        "plt.ylabel('probability')\n",
        "plt.legend()\n",
        "plt.title('prediction per rotation')\n",
        "plt.grid()\n",
        "plt.show()"
      ],
      "execution_count": 26,
      "outputs": [
        {
          "output_type": "display_data",
          "data": {
            "image/png": "[encoded data removed]",
            "text/plain": [
              "<Figure size 432x288 with 1 Axes>"
            ]
          },
          "metadata": {
            "tags": [],
            "needs_background": "light"
          }
        },
        {
          "output_type": "display_data",
          "data": {
            "image/png": "[encoded data removed]",
            "text/plain": [
              "<Figure size 720x1440 with 18 Axes>"
            ]
          },
          "metadata": {
            "tags": [],
            "needs_background": "light"
          }
        },
        {
          "output_type": "display_data",
          "data": {
            "image/png": "[encoded data removed]",
            "text/plain": [
              "<Figure size 432x288 with 1 Axes>"
            ]
          },
          "metadata": {
            "tags": [],
            "needs_background": "light"
          }
        }
      ]
    },
    {
      "cell_type": "code",
      "metadata": {
        "id": "izwWba5JZXw6"
      },
      "source": [
        ""
      ],
      "execution_count": 8,
      "outputs": []
    }
  ]
}